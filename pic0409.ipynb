{
 "cells": [
  {
   "cell_type": "code",
   "execution_count": 1,
   "id": "4d481356",
   "metadata": {},
   "outputs": [
    {
     "name": "stdout",
     "output_type": "stream",
     "text": [
      "(500, 400, 3)\n"
     ]
    }
   ],
   "source": [
    "import cv2\n",
    "import numpy as np\n",
    "import os\n",
    "#img_gray = cv2.imread('HJ_PIC.jpg' , cv2.IMREAD_GRAYSCALE)\n",
    "\n",
    "def change_location(temp):\n",
    "    img = np.zeros([temp.shape[0],temp.shape[1],temp.shape[2]])\n",
    "    for i in range(0, img.shape[0]):\n",
    "        for j in range(0, img.shape[1]):\n",
    "            if(i < (temp.shape[0]) / 2 and j < (temp.shape[1]) / 2 ):\n",
    "                img[i + int(temp.shape[0] / 2), j + int(temp.shape[1] / 2), :] = temp[i, j, :]\n",
    "            elif(i < (temp.shape[0]) / 2) and j < (temp.shape[1]):\n",
    "                img[i + int(temp.shape[0] / 2), j - int(temp.shape[1] / 2), :] = temp[i, j, :]\n",
    "            elif(i < (temp.shape[0]) and j < (temp.shape[1]) / 2):\n",
    "                img[i - int(temp.shape[0] / 2), j + int(temp.shape[1] / 2), :] = temp[i, j, :]\n",
    "            elif(i < (temp.shape[0]) and j < (temp.shape[1])):\n",
    "                img[i - int(temp.shape[0] / 2), j - int(temp.shape[1] / 2), :] = temp[i, j, :]     \n",
    "        \n",
    "    return img\n",
    "\n",
    "def change_colar(temp):\n",
    "    temp_gray = cv2.cvtColor(temp , cv2.COLOR_BGR2GRAY)\n",
    "    img = np.zeros([temp.shape[0],temp.shape[1],temp.shape[2]])\n",
    "    for i in range(0, img.shape[0]):\n",
    "        for j in range(0, img.shape[1]):\n",
    "            if(i < (temp.shape[0]) / 2 and j < (temp.shape[1]) / 2 ):\n",
    "                img[i , j , :] = temp[i, j , :]\n",
    "            elif(i < (temp.shape[0]) / 2) and j < (temp.shape[1]):\n",
    "                img[i , j ] = temp_gray[i, j]\n",
    "            elif(i < (temp.shape[0]) and j < (temp.shape[1]) / 2):\n",
    "                img[i , j ] = temp_gray[i, j]\n",
    "            elif(i < (temp.shape[0]) and j < (temp.shape[1])):\n",
    "                img[i , j , :] = temp[i, j , :]    \n",
    "            \n",
    "    return img\n",
    "\n",
    "\n",
    "temp = cv2.imread('HJ_PIC.jpg').astype(np.float32)\n",
    "cut_pic = np.zeros([int(temp.shape[0]/2),int(temp.shape[1]/2),temp.shape[2]])\n",
    "big_img = np.zeros([temp.shape[0],temp.shape[1],temp.shape[2]])\n",
    "for i in range(0, 2):\n",
    "    for j in range(0, 2):\n",
    "        cut_pic = temp[i*int(temp.shape[0]/2) : (i+1)*int(temp.shape[0]/2), j*int(temp.shape[1]/2) : (j+1)*int(temp.shape[1]/2), :]\n",
    "        chg_loc = change_location(cut_pic)\n",
    "        cv2.imwrite('output1.jpg', chg_loc)\n",
    "        temp1 = cv2.imread('output1.jpg').astype(np.float32)\n",
    "        chg_colar = change_colar(temp1)\n",
    "        cv2.imwrite('{}_{}.jpg'.format(i+1, j+1), chg_colar)\n",
    "\n",
    "#pic_names = os.listdir\n",
    "img_1_1 = cv2.imread('1_1.jpg')\n",
    "(w, l, d) = img_1_1.shape\n",
    "print(img_1_1.shape)\n",
    "for i in range (1, 3):\n",
    "        for j in range (1, 3):\n",
    "            img_part = cv2.imread('{}_{}.jpg'.format(i, j))\n",
    "            cv2.imwrite('1_{}_{}.jpg'.format(i, j), img_part)\n",
    "            big_img[w*(i-1) : w*i, l*(j-1) : l*j, :] = img_part\n",
    "            cv2.imwrite('result.jpg', big_img)"
   ]
  },
  {
   "cell_type": "code",
   "execution_count": null,
   "id": "827c61a0",
   "metadata": {},
   "outputs": [],
   "source": []
  }
 ],
 "metadata": {
  "kernelspec": {
   "display_name": "Python 3 (ipykernel)",
   "language": "python",
   "name": "python3"
  },
  "language_info": {
   "codemirror_mode": {
    "name": "ipython",
    "version": 3
   },
   "file_extension": ".py",
   "mimetype": "text/x-python",
   "name": "python",
   "nbconvert_exporter": "python",
   "pygments_lexer": "ipython3",
   "version": "3.11.0"
  }
 },
 "nbformat": 4,
 "nbformat_minor": 5
}
